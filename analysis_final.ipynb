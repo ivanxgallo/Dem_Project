{
 "cells": [
  {
   "cell_type": "code",
   "execution_count": 194,
   "metadata": {},
   "outputs": [],
   "source": [
    "import pandas as pd\n",
    "import numpy as np\n",
    "from sklearn.preprocessing import LabelEncoder\n",
    "from sklearn.model_selection import train_test_split\n",
    "from sklearn.linear_model import LogisticRegression\n",
    "from sklearn.metrics import accuracy_score, confusion_matrix, classification_report"
   ]
  },
  {
   "cell_type": "code",
   "execution_count": 195,
   "metadata": {},
   "outputs": [],
   "source": [
    "# cargamos los datos de dos pestañas diferentes\n",
    "file = \"dataset.xlsx\"\n",
    "df_ind = pd.read_excel(file, sheet_name=\"Hoja1\")\n",
    "df_dep = pd.read_excel(file, sheet_name=\"Descenlaces\")\n",
    "\n",
    "# nos quedamos con los 40 pacientes\n",
    "df_ind = df_ind.head(40)\n",
    "\n",
    "# definimos las variables independientes\n",
    "ind_vars = [\n",
    "    \"EDAD\",\n",
    "    \"tipo CP\",\n",
    "    \"DIA HOSP AL DG\",\n",
    "    \"cirugia previa\",\n",
    "    \"diálisis\",\n",
    "    \"Falla renal\",\n",
    "    \"Inmunosupresion\",\n",
    "    \"Hosp previa 6m\",\n",
    "    \"AKI CON HD durante tto\",\n",
    "    \"No Apropiado\",\n",
    "    \"Tto apropiado N°1\",\n",
    "    \"Tto apropiado N°1 >24hrs\",\n",
    "    \"Tto apropiado >48 hrs\",\n",
    "    \"Monoterapia 1- cual\",\n",
    "    \"combinado A- cual\",\n",
    "    \"combinado B-cual\",\n",
    "    \"Monoterapia 2- cual\",\n",
    "    \"combinado A- cual2\",\n",
    "    \"combinado B-cual2\",\n",
    "]\n",
    "\n",
    "# definimos las variables independientes\n",
    "dep_vars = [\n",
    "    \"falla clinica\",\n",
    "    \"Shock septico durante tto\",\n",
    "    \"Falla renal nueva con diálisis\",\n",
    "    \"MORTALIDAD 30 DIAS\",\n",
    "    \"MORTALIDAD IIH\"\n",
    "]\n",
    "\n",
    "# definimos una función que mapea los medicamentos a solo 3 categorías\n",
    "def map_categories(value):\n",
    "    if 'ceftazidima' in value or 'avi' in value:\n",
    "        return 'C/A'\n",
    "    elif value == 'no':\n",
    "        return 'no'\n",
    "    else:\n",
    "        return 'otro'"
   ]
  },
  {
   "cell_type": "code",
   "execution_count": 196,
   "metadata": {},
   "outputs": [],
   "source": [
    "# empezamos quedandonos solo con las variables relevantes del problema\n",
    "df_ind = df_ind[ind_vars]\n",
    "df_dep = df_dep[dep_vars]\n",
    "\n",
    "# hacemos un unico dataframe con variables indep y dep juntos\n",
    "df = pd.concat([df_ind, df_dep], axis=1)\n",
    "\n",
    "# quitamos las filas que tienen algun dato faltante\n",
    "df = df.dropna(how=\"any\")\n",
    "df = df.drop([30])\n",
    "#df = df.drop(30, axis=0) # eliminamos a huenupi\n",
    "#df = df.drop(29, axis=0)\n",
    "#df = df.drop(14, axis=0)"
   ]
  },
  {
   "cell_type": "code",
   "execution_count": 197,
   "metadata": {},
   "outputs": [],
   "source": [
    "\n",
    "# dejamos esta variable como INT ya que ya no está el post mortem\n",
    "df[\"DIA HOSP AL DG\"] = df[\"DIA HOSP AL DG\"].astype(int)\n",
    "\n",
    "# quitamos al post-mortem\n",
    "#df = df[df[\"DIA HOSP AL DG\"] != 108]\n",
    "\n",
    "# dejamos las categorias en minuscula\n",
    "for c in df.columns:\n",
    "    try:\n",
    "        df[[c]] = df[[c]].apply(lambda col: col.str.lower() if col.dtype == 'object' else col)\n",
    "\n",
    "    except:\n",
    "        print(\"problems with column:\", c)\n",
    "\n",
    "# vamos a quitar los espacios de los datos de \"tipo CP\"\n",
    "#df['tipo CP'] = df['tipo CP'].str.strip()\n",
    "\n",
    "# luego dejamos solo 3 categorias: C/A, otro y no\n",
    "for c in df.columns[13:-5]:\n",
    "    df[c] = df[c].apply(map_categories)\n",
    "\n",
    "# sacamos variables que no queremos\n",
    "df = df.drop(['No Apropiado', 'Tto apropiado N°1', \"tipo CP\"], axis=1)\n",
    "\n",
    "# las categorias binarias las trannsformamos en 0 y 1\n",
    "label_encoder = LabelEncoder()\n",
    "for c in df.columns[-5:]:\n",
    "    df[c] = label_encoder.fit_transform(df[c])\n",
    "\n",
    "for c in df.columns[2:10]:\n",
    "    df[c] = label_encoder.fit_transform(df[c])\n",
    "\n",
    "# las variables continuas las normalizamos al máximo valor\n",
    "for name in [\"EDAD\", \"DIA HOSP AL DG\"]:\n",
    "    df[name] = df[name]/df[name].max()\n",
    "\n",
    "# definimos un dataframe para crear un resumen del medicamento\n",
    "df_ca = pd.DataFrame()\n",
    "df_ca['medicamento'] = df[df.columns[11:16]].apply(lambda row: ' '.join(row.values.astype(str)), axis=1)\n",
    "df_ca['resumen'] = df_ca[\"medicamento\"].apply(\n",
    "    lambda x: 'C/A' if 'C/A' in x else ('otro' if 'otro' in x else 'no')\n",
    ")\n",
    "\n",
    "# creamos los dummies de el resumen de medicamentos\n",
    "#dum1 = pd.get_dummies(df[\"tipo CP\"]).astype(int)\n",
    "dummies = pd.get_dummies(df_ca[\"resumen\"]).astype(int)\n",
    "\n",
    "#dummies = pd.concat([dum1, dum2], axis=1)\n",
    "\n",
    "# creamos el X e y para el modelo\n",
    "objetive = dep_vars[0]\n",
    "y = df[objetive]\n",
    "X = pd.concat([df[df.columns[:10]], dummies], axis=1)\n",
    "#X = X.drop([\"tipo CP\"], axis=1) # , \"kpc\", \"ndm\""
   ]
  },
  {
   "cell_type": "code",
   "execution_count": 198,
   "metadata": {},
   "outputs": [
    {
     "name": "stdout",
     "output_type": "stream",
     "text": [
      "Accuracy: 0.7500\n",
      "Confusion Matrix:\n",
      "[[2 0]\n",
      " [2 4]]\n",
      "Classification Report:\n",
      "              precision    recall  f1-score   support\n",
      "\n",
      "           0       0.50      1.00      0.67         2\n",
      "           1       1.00      0.67      0.80         6\n",
      "\n",
      "    accuracy                           0.75         8\n",
      "   macro avg       0.75      0.83      0.73         8\n",
      "weighted avg       0.88      0.75      0.77         8\n",
      "\n"
     ]
    }
   ],
   "source": [
    "# ----- REGRESION LOGISTICA ----- #\n",
    "\n",
    "# 1. Dividir el dataset en entrenamiento y prueba\n",
    "X_train, X_test, y_train, y_test = train_test_split(X, y, test_size=0.2, random_state=0)\n",
    "\n",
    "# 2. Crear y ajustar el modelo de regresión logística\n",
    "model = LogisticRegression(solver='liblinear')  # 'liblinear' funciona bien con datasets pequeños\n",
    "model.fit(X_train, y_train)\n",
    "\n",
    "# 3. Hacer predicciones sobre los datos de prueba\n",
    "y_pred = model.predict(X_test)\n",
    "\n",
    "# 4. Evaluar el rendimiento del modelo\n",
    "# Calcular la precisión\n",
    "accuracy = accuracy_score(y_test, y_pred)\n",
    "print(f'Accuracy: {accuracy:.4f}')\n",
    "\n",
    "# Generar la matriz de confusión\n",
    "conf_matrix = confusion_matrix(y_test, y_pred)\n",
    "print('Confusion Matrix:')\n",
    "print(conf_matrix)\n",
    "\n",
    "# Generar un reporte de clasificación\n",
    "class_report = classification_report(y_test, y_pred)\n",
    "print('Classification Report:')\n",
    "print(class_report)\n",
    "\n",
    "# 5. Interpretar los coeficientes del modelo\n",
    "coefficients = model.coef_[0]\n",
    "importance_df = pd.DataFrame({\n",
    "    'Feature': X_train.columns,\n",
    "    'Coefficient': coefficients\n",
    "}).sort_values(by='Coefficient', ascending=False)"
   ]
  },
  {
   "cell_type": "code",
   "execution_count": 199,
   "metadata": {},
   "outputs": [
    {
     "name": "stdout",
     "output_type": "stream",
     "text": [
      "Feature Importances (Coefficients):\n"
     ]
    },
    {
     "data": {
      "text/html": [
       "<div>\n",
       "<style scoped>\n",
       "    .dataframe tbody tr th:only-of-type {\n",
       "        vertical-align: middle;\n",
       "    }\n",
       "\n",
       "    .dataframe tbody tr th {\n",
       "        vertical-align: top;\n",
       "    }\n",
       "\n",
       "    .dataframe thead th {\n",
       "        text-align: right;\n",
       "    }\n",
       "</style>\n",
       "<table border=\"1\" class=\"dataframe\">\n",
       "  <thead>\n",
       "    <tr style=\"text-align: right;\">\n",
       "      <th></th>\n",
       "      <th>Feature</th>\n",
       "      <th>Coefficient</th>\n",
       "    </tr>\n",
       "  </thead>\n",
       "  <tbody>\n",
       "    <tr>\n",
       "      <th>3</th>\n",
       "      <td>diálisis</td>\n",
       "      <td>1.054514</td>\n",
       "    </tr>\n",
       "    <tr>\n",
       "      <th>4</th>\n",
       "      <td>Falla renal</td>\n",
       "      <td>1.002344</td>\n",
       "    </tr>\n",
       "    <tr>\n",
       "      <th>11</th>\n",
       "      <td>no</td>\n",
       "      <td>0.659518</td>\n",
       "    </tr>\n",
       "    <tr>\n",
       "      <th>8</th>\n",
       "      <td>Tto apropiado N°1 &gt;24hrs</td>\n",
       "      <td>0.522916</td>\n",
       "    </tr>\n",
       "    <tr>\n",
       "      <th>7</th>\n",
       "      <td>AKI CON HD durante tto</td>\n",
       "      <td>0.452496</td>\n",
       "    </tr>\n",
       "    <tr>\n",
       "      <th>12</th>\n",
       "      <td>otro</td>\n",
       "      <td>0.285369</td>\n",
       "    </tr>\n",
       "    <tr>\n",
       "      <th>6</th>\n",
       "      <td>Hosp previa 6m</td>\n",
       "      <td>0.183925</td>\n",
       "    </tr>\n",
       "    <tr>\n",
       "      <th>2</th>\n",
       "      <td>cirugia previa</td>\n",
       "      <td>0.159393</td>\n",
       "    </tr>\n",
       "    <tr>\n",
       "      <th>5</th>\n",
       "      <td>Inmunosupresion</td>\n",
       "      <td>-0.035979</td>\n",
       "    </tr>\n",
       "    <tr>\n",
       "      <th>1</th>\n",
       "      <td>DIA HOSP AL DG</td>\n",
       "      <td>-0.224642</td>\n",
       "    </tr>\n",
       "    <tr>\n",
       "      <th>9</th>\n",
       "      <td>Tto apropiado &gt;48 hrs</td>\n",
       "      <td>-0.274213</td>\n",
       "    </tr>\n",
       "    <tr>\n",
       "      <th>0</th>\n",
       "      <td>EDAD</td>\n",
       "      <td>-0.542527</td>\n",
       "    </tr>\n",
       "    <tr>\n",
       "      <th>10</th>\n",
       "      <td>C/A</td>\n",
       "      <td>-1.188049</td>\n",
       "    </tr>\n",
       "  </tbody>\n",
       "</table>\n",
       "</div>"
      ],
      "text/plain": [
       "                     Feature  Coefficient\n",
       "3                   diálisis     1.054514\n",
       "4                Falla renal     1.002344\n",
       "11                        no     0.659518\n",
       "8   Tto apropiado N°1 >24hrs     0.522916\n",
       "7     AKI CON HD durante tto     0.452496\n",
       "12                      otro     0.285369\n",
       "6             Hosp previa 6m     0.183925\n",
       "2             cirugia previa     0.159393\n",
       "5            Inmunosupresion    -0.035979\n",
       "1             DIA HOSP AL DG    -0.224642\n",
       "9      Tto apropiado >48 hrs    -0.274213\n",
       "0                       EDAD    -0.542527\n",
       "10                       C/A    -1.188049"
      ]
     },
     "execution_count": 199,
     "metadata": {},
     "output_type": "execute_result"
    }
   ],
   "source": [
    "print('Feature Importances (Coefficients):')\n",
    "importance_df"
   ]
  },
  {
   "cell_type": "code",
   "execution_count": 200,
   "metadata": {},
   "outputs": [],
   "source": [
    "coef = importance_df[importance_df[\"Feature\"]==\"C/A\"][\"Coefficient\"].values[0]\n",
    "\n",
    "# Calcula el Odds Ratio\n",
    "odds_ratio_C_A = np.exp(coef)"
   ]
  },
  {
   "cell_type": "code",
   "execution_count": 201,
   "metadata": {},
   "outputs": [
    {
     "name": "stdout",
     "output_type": "stream",
     "text": [
      "Odds Ratio: 0.3048154064272619\n"
     ]
    }
   ],
   "source": [
    "print(\"Odds Ratio:\", odds_ratio_C_A)"
   ]
  },
  {
   "cell_type": "code",
   "execution_count": 158,
   "metadata": {},
   "outputs": [
    {
     "data": {
      "text/plain": [
       "(23, 16)"
      ]
     },
     "execution_count": 158,
     "metadata": {},
     "output_type": "execute_result"
    }
   ],
   "source": [
    "X[X[\"C/A\"]==1].shape[0], X[X[\"C/A\"]==0].shape[0]"
   ]
  },
  {
   "cell_type": "code",
   "execution_count": 137,
   "metadata": {},
   "outputs": [
    {
     "data": {
      "text/plain": [
       "(38, 13)"
      ]
     },
     "execution_count": 137,
     "metadata": {},
     "output_type": "execute_result"
    }
   ],
   "source": [
    "X.shape"
   ]
  },
  {
   "cell_type": "code",
   "execution_count": 59,
   "metadata": {},
   "outputs": [
    {
     "data": {
      "text/plain": [
       "0     0\n",
       "1     0\n",
       "2     0\n",
       "3     0\n",
       "4     0\n",
       "5     0\n",
       "6     0\n",
       "7     0\n",
       "8     0\n",
       "9     0\n",
       "10    0\n",
       "11    0\n",
       "12    1\n",
       "13    1\n",
       "14    0\n",
       "15    0\n",
       "16    0\n",
       "17    0\n",
       "18    0\n",
       "19    1\n",
       "20    1\n",
       "21    1\n",
       "22    1\n",
       "23    1\n",
       "24    1\n",
       "25    1\n",
       "26    1\n",
       "27    1\n",
       "28    1\n",
       "29    1\n",
       "30    1\n",
       "31    1\n",
       "32    1\n",
       "33    1\n",
       "34    1\n",
       "35    1\n",
       "36    1\n",
       "37    1\n",
       "38    1\n",
       "39    1\n",
       "Name: falla clinica, dtype: int64"
      ]
     },
     "execution_count": 59,
     "metadata": {},
     "output_type": "execute_result"
    }
   ],
   "source": [
    "y"
   ]
  },
  {
   "cell_type": "code",
   "execution_count": null,
   "metadata": {},
   "outputs": [],
   "source": []
  }
 ],
 "metadata": {
  "kernelspec": {
   "display_name": "Python 3",
   "language": "python",
   "name": "python3"
  },
  "language_info": {
   "codemirror_mode": {
    "name": "ipython",
    "version": 3
   },
   "file_extension": ".py",
   "mimetype": "text/x-python",
   "name": "python",
   "nbconvert_exporter": "python",
   "pygments_lexer": "ipython3",
   "version": "3.10.12"
  }
 },
 "nbformat": 4,
 "nbformat_minor": 2
}
